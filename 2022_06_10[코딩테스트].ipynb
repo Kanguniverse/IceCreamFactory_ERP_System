{
  "nbformat": 4,
  "nbformat_minor": 0,
  "metadata": {
    "colab": {
      "name": "2022-06-10[코딩테스트].ipynb",
      "provenance": [],
      "authorship_tag": "ABX9TyNRpy8bQj8baGs/Mxwy9Y+F",
      "include_colab_link": true
    },
    "kernelspec": {
      "name": "python3",
      "display_name": "Python 3"
    },
    "language_info": {
      "name": "python"
    }
  },
  "cells": [
    {
      "cell_type": "markdown",
      "metadata": {
        "id": "view-in-github",
        "colab_type": "text"
      },
      "source": [
        "<a href=\"https://colab.research.google.com/github/Kanguniverse/IceCreamFactory_ERP_System/blob/main/2022_06_10%5B%EC%BD%94%EB%94%A9%ED%85%8C%EC%8A%A4%ED%8A%B8%5D.ipynb\" target=\"_parent\"><img src=\"https://colab.research.google.com/assets/colab-badge.svg\" alt=\"Open In Colab\"/></a>"
      ]
    },
    {
      "cell_type": "code",
      "execution_count": null,
      "metadata": {
        "colab": {
          "base_uri": "https://localhost:8080/"
        },
        "id": "ogPlE3bn0_24",
        "outputId": "ed6cc126-bf31-40fd-db7c-0b5702e7b48a"
      },
      "outputs": [
        {
          "output_type": "stream",
          "name": "stdout",
          "text": [
            "(0, 1, 2)\n",
            "(0, 1, 3)\n",
            "(0, 2, 1)\n",
            "(0, 2, 3)\n",
            "(0, 3, 1)\n",
            "(0, 3, 2)\n",
            "(1, 0, 2)\n",
            "(1, 0, 3)\n",
            "(1, 2, 0)\n",
            "(1, 2, 3)\n",
            "(1, 3, 0)\n",
            "(1, 3, 2)\n",
            "(2, 0, 1)\n",
            "(2, 0, 3)\n",
            "(2, 1, 0)\n",
            "(2, 1, 3)\n",
            "(2, 3, 0)\n",
            "(2, 3, 1)\n",
            "(3, 0, 1)\n",
            "(3, 0, 2)\n",
            "(3, 1, 0)\n",
            "(3, 1, 2)\n",
            "(3, 2, 0)\n",
            "(3, 2, 1)\n"
          ]
        }
      ],
      "source": [
        "# 순열 permutation\n",
        "\n",
        "# 모든 경우의 수를 순서대로 살펴볼 때 용이하다\n",
        "# 삼성에서 next_permutation 활용하면 쉽게 풀리는 문제들이 많이 나왔다고 한다.\n",
        "\n",
        "from itertools import permutations\n",
        "\n",
        "# 정렬해서 넣어야한다.\n",
        "v = [0,1,2,3]\n",
        "\n",
        "for i in permutations(v,4): # 배열의 이름, 몇개를 뽑을 지 \n",
        "    print(i)"
      ]
    },
    {
      "cell_type": "code",
      "source": [
        "# 조합\n",
        "# 순서 상관 없이 뽑음\n",
        "# 파이썬은 combination까지 기본으로 제공\n",
        "\n",
        "from itertools import combinations\n",
        "\n",
        "v = [0,1,2,3]\n",
        "\n",
        "for i in combinations(v,2):\n",
        "    print(i)"
      ],
      "metadata": {
        "colab": {
          "base_uri": "https://localhost:8080/"
        },
        "id": "woMGzBqc1Osl",
        "outputId": "b122a77c-4fce-45fe-a6aa-4ba7a8bb7dc8"
      },
      "execution_count": null,
      "outputs": [
        {
          "output_type": "stream",
          "name": "stdout",
          "text": [
            "(0, 1)\n",
            "(0, 2)\n",
            "(0, 3)\n",
            "(1, 2)\n",
            "(1, 3)\n",
            "(2, 3)\n"
          ]
        }
      ]
    },
    {
      "cell_type": "code",
      "source": [
        "# 백준 2309번 문제 [나의 풀이]\n",
        "\n",
        "from itertools import combinations\n",
        "\n",
        "people_list = []\n",
        "\n",
        "for _ in range(9):\n",
        "    people_list.append(int(input()))\n",
        "\n",
        "people_list.sort()\n",
        "\n",
        "for i in combinations(people_list,7):\n",
        "    if sum(i)==100:\n",
        "        print(*i,sep='\\n')\n",
        "        break"
      ],
      "metadata": {
        "colab": {
          "base_uri": "https://localhost:8080/"
        },
        "id": "rf_T3rCW1-r8",
        "outputId": "b0883fae-5027-4fc4-de4c-d50f8bc8e39b"
      },
      "execution_count": null,
      "outputs": [
        {
          "output_type": "stream",
          "name": "stdout",
          "text": [
            "20\n",
            "7\n",
            "23\n",
            "19\n",
            "10\n",
            "15\n",
            "25\n",
            "8\n",
            "13\n",
            "7\n",
            "8\n",
            "10\n",
            "13\n",
            "19\n",
            "20\n",
            "23\n"
          ]
        }
      ]
    },
    {
      "cell_type": "code",
      "source": [
        "# 백준 9655번 문제 [나의 풀이]\n",
        "\n",
        "N = int(input())\n",
        "turn_count = 1\n",
        "\n",
        "while True:\n",
        "    if turn_count%2==1:\n",
        "        if N>3:\n",
        "            N-=3\n",
        "        else:\n",
        "            N-=1\n",
        "        if N==0 :\n",
        "            print('SK')\n",
        "            break\n",
        "    else :\n",
        "        if N>3:\n",
        "            N-=3\n",
        "        else:\n",
        "            N-=1\n",
        "        if N==0 :\n",
        "            print('CY')\n",
        "            break \n",
        "    turn_count+=1"
      ],
      "metadata": {
        "colab": {
          "base_uri": "https://localhost:8080/"
        },
        "id": "EF8Qk0X13FbD",
        "outputId": "69ccdd32-ae32-4fde-9cac-0e9aa9b8e711"
      },
      "execution_count": null,
      "outputs": [
        {
          "output_type": "stream",
          "name": "stdout",
          "text": [
            "5\n",
            "SK\n"
          ]
        }
      ]
    },
    {
      "cell_type": "code",
      "source": [
        "# 백준 1764번 문제 [나의 풀이]\n",
        "\n",
        "import sys\n",
        "\n",
        "input = sys.stdin.readline\n",
        "\n",
        "N,M = map(int, input().split())\n",
        "\n",
        "people1_list = []\n",
        "dic={}\n",
        "answer=[]\n",
        "\n",
        "for _ in range(N):\n",
        "    new_name = input().strip()\n",
        "    dic[new_name] = 1\n",
        "\n",
        "for _ in range(M):\n",
        "    new_name = input().strip()\n",
        "    if new_name in dic:\n",
        "        answer.append(new_name)\n",
        "\n",
        "answer.sort()\n",
        "\n",
        "print(len(answer))\n",
        "for i in answer:\n",
        "    print(i)"
      ],
      "metadata": {
        "colab": {
          "base_uri": "https://localhost:8080/"
        },
        "id": "gQXviLTla9B5",
        "outputId": "6115a855-95cb-4f1c-911f-5cb2eaa8a3b1"
      },
      "execution_count": null,
      "outputs": [
        {
          "output_type": "stream",
          "name": "stdout",
          "text": [
            "3 4\n",
            "ohhenrie\n",
            "charlie\n",
            "baesangwook\n",
            "obama\n",
            "baesangwook\n",
            "ohhenrie\n",
            "clinton\n",
            "2\n",
            "baesangwook\n",
            "ohhenrie\n"
          ]
        }
      ]
    },
    {
      "cell_type": "code",
      "source": [
        "# 백준 1755번 문제 \n",
        "\n",
        "M,N = map(int, input().split())\n",
        "\n",
        "dic = {'0':'zero ', '1':'one ', '2': 'two ', '3':'three ', '4':'four ', '5':'five ', '6':'six ', '7':'seven ', \n",
        "       '8':'eight ', '9':'nine '}\n",
        "\n",
        "answer=[]\n",
        "\n",
        "for i in range(M,N+1):\n",
        "    new_data= str(i)\n",
        "    plus_data = ''\n",
        "    for i in new_data:\n",
        "        plus_data+=dic[(i)]\n",
        "    answer.append(plus_data)\n",
        "\n",
        "answer.sort()\n",
        "\n",
        "count = 0\n",
        "for i in answer:\n",
        "    if count%10==0 and count!=0:\n",
        "        print()\n",
        "    print_data=''\n",
        "    change=i.split()\n",
        "    for c in change:\n",
        "        for k,v in dic.items():\n",
        "            if dic[k]==c+' ':\n",
        "                print_data+=k\n",
        "    print(int(print_data),end=' ') \n",
        "    count+=1"
      ],
      "metadata": {
        "colab": {
          "base_uri": "https://localhost:8080/"
        },
        "id": "9ONk68zA6uJ9",
        "outputId": "0e94f273-05f0-4118-d4c4-dd72a5f335d4"
      },
      "execution_count": null,
      "outputs": [
        {
          "output_type": "stream",
          "name": "stdout",
          "text": [
            "8 28\n",
            "8 9 18 15 14 19 11 17 16 13 12 10 28 25 24 21 27 26 23 22 20 "
          ]
        }
      ]
    },
    {
      "cell_type": "markdown",
      "source": [
        ""
      ],
      "metadata": {
        "id": "n9mWUf2UEdnh"
      }
    },
    {
      "cell_type": "code",
      "source": [
        "# 백준 11478번 문제\n",
        "\n",
        "S = input()\n",
        "\n",
        "answer_list = []\n",
        "\n",
        "for length in range(1,len(S)+1) :\n",
        "    for j in range(len(S)) :\n",
        "        if j+length>len(S)+1:\n",
        "            break\n",
        "        answer_list.append(S[j:j+length])\n",
        "\n",
        "answer_list = set(answer_list)\n",
        "\n",
        "print(len(answer_list))"
      ],
      "metadata": {
        "colab": {
          "base_uri": "https://localhost:8080/"
        },
        "id": "J1gAYyBmCSDq",
        "outputId": "b11fec90-9359-4402-87cb-f59add771bf4"
      },
      "execution_count": null,
      "outputs": [
        {
          "output_type": "stream",
          "name": "stdout",
          "text": [
            "ababc\n",
            "12\n"
          ]
        }
      ]
    },
    {
      "cell_type": "code",
      "source": [
        "print(ord(' '))"
      ],
      "metadata": {
        "colab": {
          "base_uri": "https://localhost:8080/"
        },
        "id": "OCogGGIYm6QZ",
        "outputId": "17965828-2211-4aaf-debf-edcb047da5e9"
      },
      "execution_count": null,
      "outputs": [
        {
          "output_type": "stream",
          "name": "stdout",
          "text": [
            "32\n"
          ]
        }
      ]
    },
    {
      "cell_type": "code",
      "source": [
        "print(ord('a'))\n",
        "print(ord('z'))"
      ],
      "metadata": {
        "colab": {
          "base_uri": "https://localhost:8080/"
        },
        "id": "7Hgas-uBpXw4",
        "outputId": "d457f5fb-76ed-4d40-ce15-523de7dbb8a1"
      },
      "execution_count": null,
      "outputs": [
        {
          "output_type": "stream",
          "name": "stdout",
          "text": [
            "97\n",
            "122\n"
          ]
        }
      ]
    },
    {
      "cell_type": "code",
      "source": [
        "123-97"
      ],
      "metadata": {
        "colab": {
          "base_uri": "https://localhost:8080/"
        },
        "id": "LkQ4Y1SBqlTI",
        "outputId": "546e4424-9ad6-46f5-f48a-167eb2dc0fb1"
      },
      "execution_count": null,
      "outputs": [
        {
          "output_type": "execute_result",
          "data": {
            "text/plain": [
              "26"
            ]
          },
          "metadata": {},
          "execution_count": 30
        }
      ]
    },
    {
      "cell_type": "code",
      "source": [
        "a = 7\n",
        "\n",
        "if a in range(1,9):\n",
        "    print('Hello')"
      ],
      "metadata": {
        "colab": {
          "base_uri": "https://localhost:8080/"
        },
        "id": "LYY1ipkuqt6A",
        "outputId": "04b606e2-9630-4e7e-c7c1-5978b9e08c68"
      },
      "execution_count": null,
      "outputs": [
        {
          "output_type": "stream",
          "name": "stdout",
          "text": [
            "Hello\n"
          ]
        }
      ]
    },
    {
      "cell_type": "code",
      "source": [
        "print(chr(122))"
      ],
      "metadata": {
        "colab": {
          "base_uri": "https://localhost:8080/"
        },
        "id": "TiWJ1-Alr764",
        "outputId": "a2ed027f-ac03-42cc-a4d5-d8af258d124c"
      },
      "execution_count": null,
      "outputs": [
        {
          "output_type": "stream",
          "name": "stdout",
          "text": [
            "z\n"
          ]
        }
      ]
    },
    {
      "cell_type": "code",
      "source": [
        "a = ''\n",
        "a+=chr(66)\n",
        "print(a)"
      ],
      "metadata": {
        "colab": {
          "base_uri": "https://localhost:8080/"
        },
        "id": "bKikIiDTs2Vg",
        "outputId": "679ab6b1-0a9e-4a91-944d-62f4c9c39021"
      },
      "execution_count": null,
      "outputs": [
        {
          "output_type": "stream",
          "name": "stdout",
          "text": [
            "B\n"
          ]
        }
      ]
    },
    {
      "cell_type": "code",
      "source": [
        "# 백준 2309번 문제 [강의 풀이]\n",
        "# 집합 사용 시 \n",
        "\n",
        "from itertools import combinations\n",
        "\n",
        "heights = [int(input()) for _ in range(9)]\n",
        "\n",
        "for combi in combinations(heights, 7):\n",
        "    if sum(combi) == 100:\n",
        "        for height in sorted(combi):\n",
        "            print(height)\n",
        "        break\n",
        "\n",
        "# 두번째 풀이\n",
        "\n",
        "heights = [int(input()) for _ in range(9)]\n",
        "heights.sort()\n",
        "tot = sum(heights)\n",
        "\n",
        "def f():\n",
        "    for i in range(8):\n",
        "        for j in range(i+1, 9):\n",
        "            if tot - heights[i] - heights[j] == 100:\n",
        "                for k in range(9):\n",
        "                    if i!=k and j!=k:\n",
        "                        print(heights[k])\n",
        "                return\n",
        "\n",
        "f()"
      ],
      "metadata": {
        "id": "s2D6Ei9Cs_il"
      },
      "execution_count": null,
      "outputs": []
    },
    {
      "cell_type": "code",
      "source": [
        "# 완전 탐색 - 정리\n",
        "\n",
        "# 1. 무식하게 모든 경우의 수를 다 살펴봐도 시간초과 나지 않을지 확인\n",
        "# 2. 될 거 같으면 완탐으로 문제를 푼다.\n",
        "#   안될 거 같으면 더 효율적인 알고리즘을 찾아보자 (그리디, DP, 이분법 등) "
      ],
      "metadata": {
        "id": "8LIAi6bTDTbv"
      },
      "execution_count": null,
      "outputs": []
    }
  ]
}